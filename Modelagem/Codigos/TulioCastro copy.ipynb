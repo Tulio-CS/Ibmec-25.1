{
 "cells": [
  {
   "cell_type": "code",
   "execution_count": 24,
   "metadata": {},
   "outputs": [],
   "source": [
    "from math import factorial\n",
    "from numpy import sin, cos, pi"
   ]
  },
  {
   "cell_type": "code",
   "execution_count": 25,
   "metadata": {},
   "outputs": [],
   "source": [
    "derivadas = [lambda x: -sin(x),lambda x: -cos(x),lambda x: sin(x),lambda x: cos(x)]"
   ]
  },
  {
   "cell_type": "code",
   "execution_count": null,
   "metadata": {},
   "outputs": [],
   "source": [
    "def taylor(ordem, atual, x, delta , val):\n",
    "    val += derivadas[atual%len(derivadas)-1](x) *(delta**atual)/factorial(atual)\n",
    "    if ordem > atual:\n",
    "        return taylor(ordem, atual+1, x, delta, val)\n",
    "    else:\n",
    "        return val\n",
    "\n",
    "\n",
    "def erroVerdadeiro(valorVerdadeiro, valorAproximado):\n",
    "    return valorVerdadeiro - valorAproximado\n",
    "    \n",
    "def erroRelativoPercentualVerdadeiro(valorVerdadeiro, valorAproximado):\n",
    "    return abs(round(erroVerdadeiro(valorVerdadeiro, valorAproximado) / valorVerdadeiro * 100 , 3))\n",
    "\n"
   ]
  },
  {
   "cell_type": "code",
   "execution_count": 53,
   "metadata": {},
   "outputs": [
    {
     "name": "stdout",
     "output_type": "stream",
     "text": [
      "O valor de cos(0.5) é aproximadamente -0.1619754223485887\n",
      "O erro relativo percentual verdadeiro é de 9.128%\n"
     ]
    }
   ],
   "source": [
    "entrada = int(input(\"Qual o grau do polinômio de Taylor? \"))\n",
    "x0 = float(input(\"Qual o valor inicial de x? \"))\n",
    "x1 = float(input(\"Qual o valor de x para o qual deseja calcular o polinômio? \"))\n",
    "delta = x1 - x0\n",
    "val = taylor(entrada, 0, x0, delta, cos(x0))\n",
    "erro = erroRelativoPercentualVerdadeiro(cos(x1), val)\n",
    "print(f\"O valor de cos({x0}) é aproximadamente\", val)\n",
    "print(f\"O erro relativo percentual verdadeiro é de {erro}%\")\n"
   ]
  }
 ],
 "metadata": {
  "kernelspec": {
   "display_name": "Python 3",
   "language": "python",
   "name": "python3"
  },
  "language_info": {
   "codemirror_mode": {
    "name": "ipython",
    "version": 3
   },
   "file_extension": ".py",
   "mimetype": "text/x-python",
   "name": "python",
   "nbconvert_exporter": "python",
   "pygments_lexer": "ipython3",
   "version": "3.12.4"
  }
 },
 "nbformat": 4,
 "nbformat_minor": 2
}
